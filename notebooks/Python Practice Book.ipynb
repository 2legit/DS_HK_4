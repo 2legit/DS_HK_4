{
 "metadata": {
  "name": "",
  "signature": "sha256:fb8a734ddb4174cd551ae0dbc812a3d632e0ec669a50e39ff8466f3b3c173402"
 },
 "nbformat": 3,
 "nbformat_minor": 0,
 "worksheets": [
  {
   "cells": [
    {
     "cell_type": "code",
     "collapsed": false,
     "input": [
      "def comp(lst,f):\n",
      "    ret=lst[0]\n",
      "    for i in lst:\n",
      "        #print ret, i\n",
      "        ret = f(ret,i)\n",
      "        #print ret, i\n",
      "    return ret\n",
      "\n",
      "x = range(10)\n",
      "\n",
      "def max_comp(a,b):\n",
      "    if b > a:\n",
      "        return b\n",
      "    else:\n",
      "        return a\n",
      "        \n",
      "def min_comp(a,b):\n",
      "    if b < a:\n",
      "        return b\n",
      "    else:\n",
      "        return a\n",
      "    "
     ],
     "language": "python",
     "metadata": {},
     "outputs": [],
     "prompt_number": 15
    },
    {
     "cell_type": "code",
     "collapsed": false,
     "input": [
      "x = [1,2,5,10,11,-9]"
     ],
     "language": "python",
     "metadata": {},
     "outputs": [],
     "prompt_number": 19
    },
    {
     "cell_type": "code",
     "collapsed": false,
     "input": [
      "print comp(x,max_comp)"
     ],
     "language": "python",
     "metadata": {},
     "outputs": [
      {
       "output_type": "stream",
       "stream": "stdout",
       "text": [
        "11\n"
       ]
      }
     ],
     "prompt_number": 20
    },
    {
     "cell_type": "code",
     "collapsed": false,
     "input": [
      "print comp(x,min_comp)"
     ],
     "language": "python",
     "metadata": {},
     "outputs": [
      {
       "output_type": "stream",
       "stream": "stdout",
       "text": [
        "-9\n"
       ]
      }
     ],
     "prompt_number": 21
    },
    {
     "cell_type": "code",
     "collapsed": false,
     "input": [
      "def cum_sum(lst):\n",
      "    clst = [lst[0]]\n",
      "    for i in range(len(lst)-1):\n",
      "        clst.append(clst[i]+lst[i+1])\n",
      "    return clst\n",
      "\n",
      "print x\n",
      "\n",
      "cum_sum(x)\n",
      "        "
     ],
     "language": "python",
     "metadata": {},
     "outputs": [
      {
       "output_type": "stream",
       "stream": "stdout",
       "text": [
        "[1, 2, 5, 10, 11, -9]\n"
       ]
      },
      {
       "metadata": {},
       "output_type": "pyout",
       "prompt_number": 25,
       "text": [
        "[1, 3, 8, 18, 29, 20]"
       ]
      }
     ],
     "prompt_number": 25
    },
    {
     "cell_type": "markdown",
     "metadata": {},
     "source": [
      "Problem #9"
     ]
    },
    {
     "cell_type": "code",
     "collapsed": false,
     "input": [
      "def cum_fun(lst,funct):\n",
      "    clst = [lst[0]]\n",
      "    for i in range(len(lst)-1):\n",
      "        clst.append(funct(clst[i],lst[i+1]))\n",
      "    return clst\n",
      "\n",
      "def addition(a,b):\n",
      "    return a+b\n",
      "\n",
      "cum_fun(x,addition)"
     ],
     "language": "python",
     "metadata": {},
     "outputs": [
      {
       "metadata": {},
       "output_type": "pyout",
       "prompt_number": 26,
       "text": [
        "[1, 3, 8, 18, 29, 20]"
       ]
      }
     ],
     "prompt_number": 26
    },
    {
     "cell_type": "code",
     "collapsed": false,
     "input": [
      "def cum_fun(x, lambda x:x)"
     ],
     "language": "python",
     "metadata": {},
     "outputs": [
      {
       "ename": "SyntaxError",
       "evalue": "invalid syntax (<ipython-input-28-98b7d9bacc77>, line 1)",
       "output_type": "pyerr",
       "traceback": [
        "\u001b[1;36m  File \u001b[1;32m\"<ipython-input-28-98b7d9bacc77>\"\u001b[1;36m, line \u001b[1;32m1\u001b[0m\n\u001b[1;33m    def cum_fun(x, lambda x:x)\u001b[0m\n\u001b[1;37m                        ^\u001b[0m\n\u001b[1;31mSyntaxError\u001b[0m\u001b[1;31m:\u001b[0m invalid syntax\n"
       ]
      }
     ],
     "prompt_number": 28
    },
    {
     "cell_type": "code",
     "collapsed": false,
     "input": [
      "list(\"hello\")"
     ],
     "language": "python",
     "metadata": {},
     "outputs": [
      {
       "metadata": {},
       "output_type": "pyout",
       "prompt_number": 29,
       "text": [
        "['h', 'e', 'l', 'l', 'o']"
       ]
      }
     ],
     "prompt_number": 29
    },
    {
     "cell_type": "markdown",
     "metadata": {},
     "source": [
      "Problem #10"
     ]
    },
    {
     "cell_type": "code",
     "collapsed": false,
     "input": [
      "def unique(lst):\n",
      "    ulist = []\n",
      "    for i in lst:\n",
      "        try:\n",
      "            ulist.index(i)\n",
      "            pass\n",
      "        except ValueError:\n",
      "            ulist.append(i)\n",
      "    return ulist\n",
      "\n",
      "x = list(\"heeeeellllooo, world\")\n",
      "\n",
      "unique(x)\n",
      "            "
     ],
     "language": "python",
     "metadata": {},
     "outputs": [
      {
       "metadata": {},
       "output_type": "pyout",
       "prompt_number": 51,
       "text": [
        "['h', 'e', 'l', 'o', ',', ' ', 'w', 'r', 'd']"
       ]
      }
     ],
     "prompt_number": 51
    },
    {
     "cell_type": "markdown",
     "metadata": {},
     "source": [
      "Problem 11: Write a function dups to find all duplicates in the list."
     ]
    },
    {
     "cell_type": "code",
     "collapsed": false,
     "input": [
      "def dups(lst):\n",
      "    ulist = unique(lst)\n",
      "    for i in ulist:\n",
      "        lst.pop(lst.index(i))\n",
      "    return unique(lst)\n",
      "\n",
      "x = list(\"heeeeellllooo, world\")\n",
      "\n",
      "dups(x)\n",
      "\n",
      "x\n",
      "    "
     ],
     "language": "python",
     "metadata": {},
     "outputs": [
      {
       "metadata": {},
       "output_type": "pyout",
       "prompt_number": 57,
       "text": [
        "['e', 'e', 'e', 'e', 'l', 'l', 'l', 'o', 'o', 'o', 'l']"
       ]
      }
     ],
     "prompt_number": 57
    },
    {
     "cell_type": "markdown",
     "metadata": {},
     "source": [
      "Problem 12: Write a function group(list, size) that take a list and splits into smaller lists of given size."
     ]
    },
    {
     "cell_type": "code",
     "collapsed": false,
     "input": [
      "def group(lst, size):\n",
      "    ret = [[] for x in range(len(lst)/size+1)]\n",
      "    it = iter(lst)      \n",
      "    for i in range(len(ret)):\n",
      "        for y in range(size):\n",
      "            try:\n",
      "                ret[i].append(it.next())\n",
      "            except StopIteration:\n",
      "                break\n",
      "    return ret\n",
      "\n",
      "print group(range(10),4)"
     ],
     "language": "python",
     "metadata": {},
     "outputs": [
      {
       "output_type": "stream",
       "stream": "stdout",
       "text": [
        "[[0, 1, 2, 3], [4, 5, 6, 7], [8, 9]]\n"
       ]
      }
     ],
     "prompt_number": 71
    },
    {
     "cell_type": "markdown",
     "metadata": {},
     "source": [
      "Problem 13: Write a function lensort to sort a list of strings based on length."
     ]
    },
    {
     "cell_type": "code",
     "collapsed": false,
     "input": [
      "def lensort(lst):\n",
      "    lst.sort(key=lambda x: len(x))\n",
      "    return lst\n",
      "\n",
      "def lastlettersort(lst):\n",
      "    return lst.sort(key=lambda x: x[-1])\n",
      "\n",
      "x = \"this is a bunch of words\".split(\" \")\n",
      "\n",
      "print x\n",
      "\n",
      "y = lensort(x)\n",
      "\n",
      "print \"y: \",y\n",
      "print \"x: \",x\n",
      "\n",
      "y = x.sort()\n",
      "print x.sort()\n",
      "\n",
      "lastlettersort(x)\n",
      "\n",
      "print \"x: \",x"
     ],
     "language": "python",
     "metadata": {},
     "outputs": [
      {
       "output_type": "stream",
       "stream": "stdout",
       "text": [
        "['this', 'is', 'a', 'bunch', 'of', 'words']\n",
        "y:  ['a', 'is', 'of', 'this', 'bunch', 'words']\n",
        "x:  ['a', 'is', 'of', 'this', 'bunch', 'words']\n",
        "None\n",
        "x:  ['a', 'of', 'bunch', 'is', 'this', 'words']\n"
       ]
      }
     ],
     "prompt_number": 81
    },
    {
     "cell_type": "markdown",
     "metadata": {},
     "source": [
      "Problem 14: Improve the unique function written in previous problems to take an optional key function as argument and use the return value of the key function to check for uniqueness."
     ]
    },
    {
     "cell_type": "code",
     "collapsed": false,
     "input": [
      "def unique(lst, key=lambda x: x):\n",
      "    ulist = []\n",
      "    for i in lst:\n",
      "        try:\n",
      "            ulist.index(key(i))\n",
      "            pass\n",
      "        except ValueError:\n",
      "            ulist.append(key(i))\n",
      "    return ulist\n",
      "\n",
      "unique(\"a a A A b c d E e f\".split(\" \"), key=lambda x: x.lower())"
     ],
     "language": "python",
     "metadata": {},
     "outputs": [
      {
       "metadata": {},
       "output_type": "pyout",
       "prompt_number": 85,
       "text": [
        "['a', 'b', 'c', 'd', 'e', 'f']"
       ]
      }
     ],
     "prompt_number": 85
    },
    {
     "cell_type": "markdown",
     "metadata": {},
     "source": [
      "Problem 15: Reimplement the unique function implemented in the earlier examples using sets."
     ]
    },
    {
     "cell_type": "code",
     "collapsed": false,
     "input": [
      "x = \"a a A A b c d E e f\".split(\" \")\n",
      "list(set(x)).sort()\n",
      "\n",
      "print x\n",
      "\n",
      "type(list(set(x)).sort())"
     ],
     "language": "python",
     "metadata": {},
     "outputs": [
      {
       "output_type": "stream",
       "stream": "stdout",
       "text": [
        "['a', 'a', 'A', 'A', 'b', 'c', 'd', 'E', 'e', 'f']\n"
       ]
      },
      {
       "metadata": {},
       "output_type": "pyout",
       "prompt_number": 101,
       "text": [
        "NoneType"
       ]
      }
     ],
     "prompt_number": 101
    },
    {
     "cell_type": "code",
     "collapsed": false,
     "input": [
      "def unique(lst):\n",
      "    return list(set(lst))\n",
      "\n",
      "\n",
      "unique([1,1,3,4,4,2,10])\n"
     ],
     "language": "python",
     "metadata": {},
     "outputs": [
      {
       "metadata": {},
       "output_type": "pyout",
       "prompt_number": 98,
       "text": [
        "[1, 2, 3, 4, 10]"
       ]
      }
     ],
     "prompt_number": 98
    },
    {
     "cell_type": "markdown",
     "metadata": {},
     "source": [
      "Problem 16: Write a function extsort to sort a list of files based on extension."
     ]
    },
    {
     "cell_type": "code",
     "collapsed": false,
     "input": [
      "def extsort(lst):\n",
      "    lst.sort(key=lambda x: x[x.index(\".\")+1:])\n",
      "    return lst\n",
      "\n",
      "extsort(['a.c', 'a.py', 'b.py', 'bar.txt', 'foo.txt', 'x.c'])\n",
      "    "
     ],
     "language": "python",
     "metadata": {},
     "outputs": [
      {
       "metadata": {},
       "output_type": "pyout",
       "prompt_number": 105,
       "text": [
        "['a.c', 'x.c', 'a.py', 'b.py', 'bar.txt', 'foo.txt']"
       ]
      }
     ],
     "prompt_number": 105
    },
    {
     "cell_type": "markdown",
     "metadata": {},
     "source": [
      "Problem 17: Write a program reverse.py to print lines of a file in reverse order."
     ]
    },
    {
     "cell_type": "code",
     "collapsed": false,
     "input": [
      "s = \"She sells seashells on the seashore;\\nThe shells that she sells are seashells I'm sure.\\nSo if she sells seashells on the seashore,\\nI'm sure that the shells are seashore shells.\"\n",
      "\n",
      "print s"
     ],
     "language": "python",
     "metadata": {},
     "outputs": [
      {
       "output_type": "stream",
       "stream": "stdout",
       "text": [
        "She sells seashells on the seashore;\n",
        "The shells that she sells are seashells I'm sure.\n",
        "So if she sells seashells on the seashore,\n",
        "I'm sure that the shells are seashore shells.\n"
       ]
      }
     ],
     "prompt_number": 5
    },
    {
     "cell_type": "code",
     "collapsed": false,
     "input": [
      "with open('she.txt','w') as file:\n",
      "    file.write(s)"
     ],
     "language": "python",
     "metadata": {},
     "outputs": [],
     "prompt_number": 6
    },
    {
     "cell_type": "code",
     "collapsed": false,
     "input": [
      "!cat she.txt"
     ],
     "language": "python",
     "metadata": {},
     "outputs": [
      {
       "output_type": "stream",
       "stream": "stdout",
       "text": [
        "She sells seashells on the seashore;\r\n",
        "The shells that she sells are seashells I'm sure.\r\n",
        "So if she sells seashells on the seashore,\r\n",
        "I'm sure that the shells are seashore shells."
       ]
      }
     ],
     "prompt_number": 7
    },
    {
     "cell_type": "code",
     "collapsed": false,
     "input": [
      "def reverse(filename):\n",
      "    #out = []\n",
      "    with open(filename) as file:\n",
      "        out = file.readlines()\n",
      "    print out[::-1]\n",
      "    return\n",
      "\n",
      "reverse(\"she.txt\")"
     ],
     "language": "python",
     "metadata": {},
     "outputs": [
      {
       "output_type": "stream",
       "stream": "stdout",
       "text": [
        "[\"I'm sure that the shells are seashore shells.\", 'So if she sells seashells on the seashore,\\n', \"The shells that she sells are seashells I'm sure.\\n\", 'She sells seashells on the seashore;\\n']\n"
       ]
      }
     ],
     "prompt_number": 12
    },
    {
     "cell_type": "code",
     "collapsed": false,
     "input": [
      "file.readlines?"
     ],
     "language": "python",
     "metadata": {},
     "outputs": [],
     "prompt_number": 8
    },
    {
     "cell_type": "markdown",
     "metadata": {},
     "source": [
      "Problem 19: Implement unix commands head and tail. The head and tail commands take a file as argument and prints its first and last 10 lines of the file respectively."
     ]
    },
    {
     "cell_type": "code",
     "collapsed": false,
     "input": [
      "def head(fname,lines):\n",
      "    with open(fname) as file:\n",
      "        x = file.readlines()\n",
      "    return x[:lines]\n",
      "\n",
      "def tail(fname,lines):\n",
      "    with open(fname) as file:\n",
      "        x = file.readlines()\n",
      "    return x[-1*lines:]\n",
      "\n",
      "tail(\"she.txt\",1)"
     ],
     "language": "python",
     "metadata": {},
     "outputs": [
      {
       "metadata": {},
       "output_type": "pyout",
       "prompt_number": 22,
       "text": [
        "[\"I'm sure that the shells are seashore shells.\"]"
       ]
      }
     ],
     "prompt_number": 22
    },
    {
     "cell_type": "markdown",
     "metadata": {},
     "source": [
      "Problem 20: Implement unix command grep. The grep command takes a string and a file as arguments and prints all lines in the file which contain the specified string."
     ]
    },
    {
     "cell_type": "code",
     "collapsed": false,
     "input": [
      "#use filter on list, and IN for strings\n",
      "def grep(fname,string):\n",
      "    with open(fname) as f:\n",
      "        out=f.readlines()\n",
      "    print filter(lambda x: string in x,out)\n",
      "\n",
      "grep(\"she.txt\",\"sure\")"
     ],
     "language": "python",
     "metadata": {},
     "outputs": [
      {
       "output_type": "stream",
       "stream": "stdout",
       "text": [
        "[\"The shells that she sells are seashells I'm sure.\\n\", \"I'm sure that the shells are seashore shells.\"]\n"
       ]
      }
     ],
     "prompt_number": 51
    },
    {
     "cell_type": "code",
     "collapsed": false,
     "input": [
      "filter??"
     ],
     "language": "python",
     "metadata": {},
     "outputs": [],
     "prompt_number": 53
    },
    {
     "cell_type": "code",
     "collapsed": false,
     "input": [
      "names = ['aaa','bbbbbb','cccccc','abcccc']\n",
      "filter(lambda x:'bb' in x, names)"
     ],
     "language": "python",
     "metadata": {},
     "outputs": [
      {
       "metadata": {},
       "output_type": "pyout",
       "prompt_number": 48,
       "text": [
        "['bbbbbb']"
       ]
      }
     ],
     "prompt_number": 48
    },
    {
     "cell_type": "markdown",
     "metadata": {},
     "source": [
      "Problem 21: Write a program wrap.py that takes filename and width as aruguments and wraps the lines longer than width."
     ]
    },
    {
     "cell_type": "code",
     "collapsed": false,
     "input": [
      "import textwrap as tw\n",
      "\n",
      "def wrap(fname,width):\n",
      "    with open(fname) as f:\n",
      "        out = f.read()\n",
      "    print tw.wrap(out,width)\n",
      "    \n",
      "wrap(\"she.txt\",25)"
     ],
     "language": "python",
     "metadata": {},
     "outputs": [
      {
       "output_type": "stream",
       "stream": "stdout",
       "text": [
        "['She sells seashells on', 'the seashore; The shells', 'that she sells are', \"seashells I'm sure. So if\", 'she sells seashells on', \"the seashore, I'm sure\", 'that the shells are', 'seashore shells.']\n"
       ]
      }
     ],
     "prompt_number": 62
    },
    {
     "cell_type": "code",
     "collapsed": false,
     "input": [
      "def wrap2(fname,width):\n",
      "    with open(fname) as f:\n",
      "        content = f.read()\n",
      "        print content\n",
      "    out = [content[x*width:(x+1)*width] for x in range(int(math.ceil(len(content)/float(width))))]\n",
      "    return out\n",
      "\n",
      "wrap2(\"she.txt\",25)\n",
      "    "
     ],
     "language": "python",
     "metadata": {},
     "outputs": [
      {
       "output_type": "stream",
       "stream": "stdout",
       "text": [
        "She sells seashells on the seashore;\n",
        "The shells that she sells are seashells I'm sure.\n",
        "So if she sells seashells on the seashore,\n",
        "I'm sure that the shells are seashore shells.\n"
       ]
      },
      {
       "metadata": {},
       "output_type": "pyout",
       "prompt_number": 90,
       "text": [
        "['She sells seashells on th',\n",
        " 'e seashore;\\nThe shells th',\n",
        " 'at she sells are seashell',\n",
        " \"s I'm sure.\\nSo if she sel\",\n",
        " 'ls seashells on the seash',\n",
        " \"ore,\\nI'm sure that the sh\",\n",
        " 'ells are seashore shells.']"
       ]
      }
     ],
     "prompt_number": 90
    },
    {
     "cell_type": "markdown",
     "metadata": {},
     "source": [
      "Problem 22: The above wrap program is not so nice because it is breaking the line at middle of any word. Can you write a new program wordwrap.py that works like wrap.py, but breaks the line only at the word boundaries?"
     ]
    },
    {
     "cell_type": "code",
     "collapsed": false,
     "input": [
      "z = 'abc def'\n",
      "z + 'yyy'\n",
      "str.split()"
     ],
     "language": "python",
     "metadata": {},
     "outputs": [
      {
       "metadata": {},
       "output_type": "pyout",
       "prompt_number": 89,
       "text": [
        "'abc defyyy'"
       ]
      }
     ],
     "prompt_number": 89
    },
    {
     "cell_type": "code",
     "collapsed": false,
     "input": [
      "def wrap3(fname,width):\n",
      "    with open(fname) as f:\n",
      "        content = f.read()\n",
      "        print content\n",
      "    content = content.strip(\"\\n\")\n",
      "    tokenlist = content.split()\n",
      "    tokenlist = map(lambda x: x + \" \", tokenlist)\n",
      "    out = \"\"\n",
      "    ctr = 0\n",
      "    for t in tokenlist:\n",
      "        if ctr + len(t) > width:\n",
      "            #end line and move to next line\n",
      "            out = out + \"\\n\" + t\n",
      "            ctr = len(t)\n",
      "        else:\n",
      "            #add newline and increment ctr\n",
      "            ctr = ctr + len(t)\n",
      "            out = out + t\n",
      "    return out\n",
      "\n",
      "print wrap3(\"she.txt\",9)"
     ],
     "language": "python",
     "metadata": {},
     "outputs": [
      {
       "output_type": "stream",
       "stream": "stdout",
       "text": [
        "She sells seashells on the seashore;\n",
        "The shells that she sells are seashells I'm sure.\n",
        "So if she sells seashells on the seashore,\n",
        "I'm sure that the shells are seashore shells.\n",
        "She \n",
        "sells \n",
        "seashells \n",
        "on the \n",
        "seashore; \n",
        "The \n",
        "shells \n",
        "that she \n",
        "sells \n",
        "are \n",
        "seashells \n",
        "I'm \n",
        "sure. So \n",
        "if she \n",
        "sells \n",
        "seashells \n",
        "on the \n",
        "seashore, \n",
        "I'm sure \n",
        "that the \n",
        "shells \n",
        "are \n",
        "seashore \n",
        "shells. \n"
       ]
      }
     ],
     "prompt_number": 98
    },
    {
     "cell_type": "markdown",
     "metadata": {},
     "source": [
      "Problem 23: Write a program center_align.py to center align all lines in the given file."
     ]
    },
    {
     "cell_type": "code",
     "collapsed": false,
     "input": [
      "\"a\"*3"
     ],
     "language": "python",
     "metadata": {},
     "outputs": [
      {
       "metadata": {},
       "output_type": "pyout",
       "prompt_number": 101,
       "text": [
        "'aaa'"
       ]
      }
     ],
     "prompt_number": 101
    },
    {
     "cell_type": "code",
     "collapsed": false,
     "input": [
      "def center(fname):\n",
      "    with open(fname) as f:\n",
      "        content = f.readlines()\n",
      "    longest = len(max(content,key=len))\n",
      "    out = [pad(ln,(longest-len(ln))/2) for ln in content]\n",
      "    return out\n",
      "\n",
      "def pad(line, num):\n",
      "    return \" \"*num + line + \" \"*num\n",
      "\n",
      "for ln in center(\"she.txt\"):\n",
      "    print ln"
     ],
     "language": "python",
     "metadata": {},
     "outputs": [
      {
       "output_type": "stream",
       "stream": "stdout",
       "text": [
        "      She sells seashells on the seashore;\n",
        "      \n",
        "The shells that she sells are seashells I'm sure.\n",
        "\n",
        "   So if she sells seashells on the seashore,\n",
        "   \n",
        "  I'm sure that the shells are seashore shells.  \n"
       ]
      }
     ],
     "prompt_number": 103
    },
    {
     "cell_type": "markdown",
     "metadata": {},
     "source": [
      "Problem 24: Provide an implementation for zip function using list comprehensions."
     ]
    },
    {
     "cell_type": "code",
     "collapsed": false,
     "input": [
      "def zip2(l1,l2):\n",
      "    return [(l1[i],l2[i]) for i in range(len(l1))]\n",
      "\n",
      "zip2([1,2,3],['a','b','c'])"
     ],
     "language": "python",
     "metadata": {},
     "outputs": [
      {
       "metadata": {},
       "output_type": "pyout",
       "prompt_number": 105,
       "text": [
        "[(1, 'a'), (2, 'b'), (3, 'c')]"
       ]
      }
     ],
     "prompt_number": 105
    },
    {
     "cell_type": "markdown",
     "metadata": {},
     "source": [
      "Problem 26: Python provides a built-in function filter(f, a) that returns items of the list a for which f(item) returns true. Provide an implementation for filter using list comprehensions."
     ]
    },
    {
     "cell_type": "code",
     "collapsed": false,
     "input": [
      "def filter2(f,a):\n",
      "    return [i for i in a if f(i)==True]\n",
      "\n",
      "def even(x):return x%2==0\n",
      "\n",
      "filter2(even, range(10))"
     ],
     "language": "python",
     "metadata": {},
     "outputs": [
      {
       "metadata": {},
       "output_type": "pyout",
       "prompt_number": 106,
       "text": [
        "[0, 2, 4, 6, 8]"
       ]
      }
     ],
     "prompt_number": 106
    },
    {
     "cell_type": "markdown",
     "metadata": {},
     "source": [
      "Problem 27: Write a function triplets that takes a number n as argument and returns a list of triplets such that sum of first two elements of the triplet equals the third element using numbers below n. Please note that (a, b, c) and (b, a, c) represent same triplet."
     ]
    },
    {
     "cell_type": "code",
     "collapsed": false,
     "input": [
      "def triplets(n):\n",
      "    return [(a,b,c) for a in range(n) for b in range(n) for c in range(n) if b + c == a and b >= c]\n",
      "\n",
      "triplets(5)"
     ],
     "language": "python",
     "metadata": {},
     "outputs": [
      {
       "metadata": {},
       "output_type": "pyout",
       "prompt_number": 111,
       "text": [
        "[(0, 0, 0),\n",
        " (1, 1, 0),\n",
        " (2, 1, 1),\n",
        " (2, 2, 0),\n",
        " (3, 2, 1),\n",
        " (3, 3, 0),\n",
        " (4, 2, 2),\n",
        " (4, 3, 1),\n",
        " (4, 4, 0)]"
       ]
      }
     ],
     "prompt_number": 111
    },
    {
     "cell_type": "code",
     "collapsed": false,
     "input": [
      "def triplets2(n):\n",
      "    return [(a,b,c) for a in range(n) for b in range(n) for c in range(b,a+1) if b + c == a]\n",
      "\n",
      "triplets2(5)"
     ],
     "language": "python",
     "metadata": {},
     "outputs": [
      {
       "metadata": {},
       "output_type": "pyout",
       "prompt_number": 115,
       "text": [
        "[(0, 0, 0),\n",
        " (1, 0, 1),\n",
        " (2, 0, 2),\n",
        " (2, 1, 1),\n",
        " (3, 0, 3),\n",
        " (3, 1, 2),\n",
        " (4, 0, 4),\n",
        " (4, 1, 3),\n",
        " (4, 2, 2)]"
       ]
      }
     ],
     "prompt_number": 115
    },
    {
     "cell_type": "markdown",
     "metadata": {},
     "source": [
      "Problem 28: Write a function enumerate that takes a list and returns a list of tuples containing (index,item) for each item in the list."
     ]
    },
    {
     "cell_type": "code",
     "collapsed": false,
     "input": [
      "def enum(lst):\n",
      "    return [(i,lst[i]) for i in range(len(lst))]\n",
      "\n",
      "enum(triplets(5))"
     ],
     "language": "python",
     "metadata": {},
     "outputs": [
      {
       "metadata": {},
       "output_type": "pyout",
       "prompt_number": 113,
       "text": [
        "[(0, (0, 0, 0)),\n",
        " (1, (1, 1, 0)),\n",
        " (2, (2, 1, 1)),\n",
        " (3, (2, 2, 0)),\n",
        " (4, (3, 2, 1)),\n",
        " (5, (3, 3, 0)),\n",
        " (6, (4, 2, 2)),\n",
        " (7, (4, 3, 1)),\n",
        " (8, (4, 4, 0))]"
       ]
      }
     ],
     "prompt_number": 113
    },
    {
     "cell_type": "markdown",
     "metadata": {},
     "source": [
      "Problem 29: Write a function array to create an 2-dimensional array. The function should take both dimensions as arguments. Value of each element can be initialized to None:"
     ]
    },
    {
     "cell_type": "code",
     "collapsed": false,
     "input": [
      "def array(rows,cols):\n",
      "    return [[[None] for c in range(cols)] for r in range(rows)]\n",
      "\n",
      "array(2,3)"
     ],
     "language": "python",
     "metadata": {},
     "outputs": [
      {
       "metadata": {},
       "output_type": "pyout",
       "prompt_number": 118,
       "text": [
        "[[[None], [None], [None]], [[None], [None], [None]]]"
       ]
      }
     ],
     "prompt_number": 118
    },
    {
     "cell_type": "markdown",
     "metadata": {},
     "source": [
      "Problem 30: Write a python function parse_csv to parse csv (comma separated values) files."
     ]
    },
    {
     "cell_type": "code",
     "collapsed": false,
     "input": [
      "def parse_csv(csv):\n",
      "    return csv.split(\",\")\n",
      "\n",
      "parse_csv(\"a,b,c,d,e\")"
     ],
     "language": "python",
     "metadata": {},
     "outputs": [
      {
       "metadata": {},
       "output_type": "pyout",
       "prompt_number": 6,
       "text": [
        "['a', 'b', 'c', 'd', 'e']"
       ]
      }
     ],
     "prompt_number": 6
    },
    {
     "cell_type": "markdown",
     "metadata": {},
     "source": [
      "Problem 31: Generalize the above implementation of csv parser to support any delimiter and comments."
     ]
    },
    {
     "cell_type": "code",
     "collapsed": false,
     "input": [
      "def parse(fname,delimiter,comment):\n",
      "    with open(fname) as f:\n",
      "        lines = f.readlines()\n",
      "    return [(l.partition(comment)[0]).split(delimiter) for l in lines]\n",
      "\n",
      "parse(\"test.csv\",\"!\",\"#\")\n",
      "            "
     ],
     "language": "python",
     "metadata": {},
     "outputs": [
      {
       "metadata": {},
       "output_type": "pyout",
       "prompt_number": 23,
       "text": [
        "[[''],\n",
        " ['a', 'b', 'c\\n'],\n",
        " ['1', '2', '3\\n'],\n",
        " ['2', '3', '4\\n'],\n",
        " ['3', '4', '5\\n'],\n",
        " ['y']]"
       ]
      }
     ],
     "prompt_number": 23
    },
    {
     "cell_type": "code",
     "collapsed": false,
     "input": [
      "'y#x'.partition(\"#\")[0]"
     ],
     "language": "python",
     "metadata": {},
     "outputs": [
      {
       "metadata": {},
       "output_type": "pyout",
       "prompt_number": 21,
       "text": [
        "'y'"
       ]
      }
     ],
     "prompt_number": 21
    },
    {
     "cell_type": "markdown",
     "metadata": {},
     "source": [
      "Problem 32: Write a function mutate to compute all words generated by a single mutation on a given word. A mutation is defined as inserting a character, deleting a character, replacing a character, or swapping 2 consecutive characters in a string. For simplicity consider only letters from a to z."
     ]
    },
    {
     "cell_type": "code",
     "collapsed": false,
     "input": [
      "alp=map(chr,range(97,123))\n",
      "\n",
      "print alp"
     ],
     "language": "python",
     "metadata": {},
     "outputs": [
      {
       "output_type": "stream",
       "stream": "stdout",
       "text": [
        "['a', 'b', 'c', 'd', 'e', 'f', 'g', 'h', 'i', 'j', 'k', 'l', 'm', 'n', 'o', 'p', 'q', 'r', 's', 't', 'u', 'v', 'w', 'x', 'y', 'z']\n"
       ]
      }
     ],
     "prompt_number": 27
    },
    {
     "cell_type": "code",
     "collapsed": false,
     "input": [
      "def insert_c(word):\n",
      "    lword = word.lower()\n",
      "    out = []\n",
      "    for i in range(len(lword)):\n",
      "        for c in alp:\n",
      "            out.append(lword[:i]+c+lword[i:])\n",
      "    return out\n",
      "\n",
      "print insert_c('hi')"
     ],
     "language": "python",
     "metadata": {},
     "outputs": [
      {
       "output_type": "stream",
       "stream": "stdout",
       "text": [
        "['ahi', 'bhi', 'chi', 'dhi', 'ehi', 'fhi', 'ghi', 'hhi', 'ihi', 'jhi', 'khi', 'lhi', 'mhi', 'nhi', 'ohi', 'phi', 'qhi', 'rhi', 'shi', 'thi', 'uhi', 'vhi', 'whi', 'xhi', 'yhi', 'zhi', 'hai', 'hbi', 'hci', 'hdi', 'hei', 'hfi', 'hgi', 'hhi', 'hii', 'hji', 'hki', 'hli', 'hmi', 'hni', 'hoi', 'hpi', 'hqi', 'hri', 'hsi', 'hti', 'hui', 'hvi', 'hwi', 'hxi', 'hyi', 'hzi']\n"
       ]
      }
     ],
     "prompt_number": 37
    },
    {
     "cell_type": "code",
     "collapsed": false,
     "input": [
      "def delete_c(word):\n",
      "    lword = word.lower()\n",
      "    return [lword[:i]+lword[i+1:] for i in range(len(lword))]\n",
      "\n",
      "print delete_c('hello')"
     ],
     "language": "python",
     "metadata": {},
     "outputs": [
      {
       "output_type": "stream",
       "stream": "stdout",
       "text": [
        "['ello', 'hllo', 'helo', 'helo', 'hell']\n"
       ]
      }
     ],
     "prompt_number": 40
    },
    {
     "cell_type": "code",
     "collapsed": false,
     "input": [
      "def replace_c(word):\n",
      "    lword = word.lower()\n",
      "    out = []\n",
      "    for i in range(len(lword)):\n",
      "        for c in alp:\n",
      "            #print lword[:i],c,lword[i+1:]\n",
      "            out.append(lword[:i]+c+lword[i+1:])\n",
      "    return out\n",
      "\n",
      "print replace_c('Day')"
     ],
     "language": "python",
     "metadata": {},
     "outputs": [
      {
       "output_type": "stream",
       "stream": "stdout",
       "text": [
        "['aay', 'bay', 'cay', 'day', 'eay', 'fay', 'gay', 'hay', 'iay', 'jay', 'kay', 'lay', 'may', 'nay', 'oay', 'pay', 'qay', 'ray', 'say', 'tay', 'uay', 'vay', 'way', 'xay', 'yay', 'zay', 'day', 'dby', 'dcy', 'ddy', 'dey', 'dfy', 'dgy', 'dhy', 'diy', 'djy', 'dky', 'dly', 'dmy', 'dny', 'doy', 'dpy', 'dqy', 'dry', 'dsy', 'dty', 'duy', 'dvy', 'dwy', 'dxy', 'dyy', 'dzy', 'daa', 'dab', 'dac', 'dad', 'dae', 'daf', 'dag', 'dah', 'dai', 'daj', 'dak', 'dal', 'dam', 'dan', 'dao', 'dap', 'daq', 'dar', 'das', 'dat', 'dau', 'dav', 'daw', 'dax', 'day', 'daz']\n"
       ]
      }
     ],
     "prompt_number": 48
    },
    {
     "cell_type": "code",
     "collapsed": false,
     "input": [
      "def swap_c(word):\n",
      "    lword = word.lower()\n",
      "    lst = []\n",
      "    out = []\n",
      "    for i in range(len(lword)):\n",
      "        try:\n",
      "            \"\"\"\n",
      "            lst = list(lword)\n",
      "            lst[i] = lword[i+1]\n",
      "            lst[i+1] = lword[i]\n",
      "            out.append(''.join(lst))\n",
      "            \"\"\"\n",
      "            lst = list(lword)\n",
      "            lst[i] = lword[i-1]\n",
      "            lst[i-1] = lword[i]\n",
      "            out.append(''.join(lst))\n",
      "        except IndexError:\n",
      "            break\n",
      "    return out\n",
      "\n",
      "print swap_c('yang')\n",
      "        \n",
      "        "
     ],
     "language": "python",
     "metadata": {},
     "outputs": [
      {
       "output_type": "stream",
       "stream": "stdout",
       "text": [
        "['gany', 'ayng', 'ynag', 'yagn']\n"
       ]
      }
     ],
     "prompt_number": 59
    },
    {
     "cell_type": "code",
     "collapsed": false,
     "input": [
      "list(concatenate(([1,2,3],[1,2,3])))"
     ],
     "language": "python",
     "metadata": {},
     "outputs": [
      {
       "metadata": {},
       "output_type": "pyout",
       "prompt_number": 64,
       "text": [
        "[1, 2, 3, 1, 2, 3]"
       ]
      }
     ],
     "prompt_number": 64
    },
    {
     "cell_type": "code",
     "collapsed": false,
     "input": [
      "def mutate(word):\n",
      "    l1 = insert_c(word)\n",
      "    l2 = delete_c(word)\n",
      "    l3 = replace_c(word)\n",
      "    l4 = swap_c(word)\n",
      "    return list(concatenate((l1,l2,l3,l4)))\n",
      "\n",
      "print mutate('hello')"
     ],
     "language": "python",
     "metadata": {},
     "outputs": [
      {
       "output_type": "stream",
       "stream": "stdout",
       "text": [
        "['ahello', 'bhello', 'chello', 'dhello', 'ehello', 'fhello', 'ghello', 'hhello', 'ihello', 'jhello', 'khello', 'lhello', 'mhello', 'nhello', 'ohello', 'phello', 'qhello', 'rhello', 'shello', 'thello', 'uhello', 'vhello', 'whello', 'xhello', 'yhello', 'zhello', 'haello', 'hbello', 'hcello', 'hdello', 'heello', 'hfello', 'hgello', 'hhello', 'hiello', 'hjello', 'hkello', 'hlello', 'hmello', 'hnello', 'hoello', 'hpello', 'hqello', 'hrello', 'hsello', 'htello', 'huello', 'hvello', 'hwello', 'hxello', 'hyello', 'hzello', 'heallo', 'hebllo', 'hecllo', 'hedllo', 'heello', 'hefllo', 'hegllo', 'hehllo', 'heillo', 'hejllo', 'hekllo', 'helllo', 'hemllo', 'henllo', 'heollo', 'hepllo', 'heqllo', 'herllo', 'hesllo', 'hetllo', 'heullo', 'hevllo', 'hewllo', 'hexllo', 'heyllo', 'hezllo', 'helalo', 'helblo', 'helclo', 'heldlo', 'helelo', 'helflo', 'helglo', 'helhlo', 'helilo', 'heljlo', 'helklo', 'helllo', 'helmlo', 'helnlo', 'helolo', 'helplo', 'helqlo', 'helrlo', 'helslo', 'heltlo', 'helulo', 'helvlo', 'helwlo', 'helxlo', 'helylo', 'helzlo', 'hellao', 'hellbo', 'hellco', 'helldo', 'helleo', 'hellfo', 'hellgo', 'hellho', 'hellio', 'helljo', 'hellko', 'helllo', 'hellmo', 'hellno', 'helloo', 'hellpo', 'hellqo', 'hellro', 'hellso', 'hellto', 'helluo', 'hellvo', 'hellwo', 'hellxo', 'hellyo', 'hellzo', 'ello', 'hllo', 'helo', 'helo', 'hell', 'aello', 'bello', 'cello', 'dello', 'eello', 'fello', 'gello', 'hello', 'iello', 'jello', 'kello', 'lello', 'mello', 'nello', 'oello', 'pello', 'qello', 'rello', 'sello', 'tello', 'uello', 'vello', 'wello', 'xello', 'yello', 'zello', 'hallo', 'hbllo', 'hcllo', 'hdllo', 'hello', 'hfllo', 'hgllo', 'hhllo', 'hillo', 'hjllo', 'hkllo', 'hlllo', 'hmllo', 'hnllo', 'hollo', 'hpllo', 'hqllo', 'hrllo', 'hsllo', 'htllo', 'hullo', 'hvllo', 'hwllo', 'hxllo', 'hyllo', 'hzllo', 'healo', 'heblo', 'heclo', 'hedlo', 'heelo', 'heflo', 'heglo', 'hehlo', 'heilo', 'hejlo', 'heklo', 'hello', 'hemlo', 'henlo', 'heolo', 'heplo', 'heqlo', 'herlo', 'heslo', 'hetlo', 'heulo', 'hevlo', 'hewlo', 'hexlo', 'heylo', 'hezlo', 'helao', 'helbo', 'helco', 'heldo', 'heleo', 'helfo', 'helgo', 'helho', 'helio', 'heljo', 'helko', 'hello', 'helmo', 'helno', 'heloo', 'helpo', 'helqo', 'helro', 'helso', 'helto', 'heluo', 'helvo', 'helwo', 'helxo', 'helyo', 'helzo', 'hella', 'hellb', 'hellc', 'helld', 'helle', 'hellf', 'hellg', 'hellh', 'helli', 'hellj', 'hellk', 'helll', 'hellm', 'helln', 'hello', 'hellp', 'hellq', 'hellr', 'hells', 'hellt', 'hellu', 'hellv', 'hellw', 'hellx', 'helly', 'hellz', 'oellh', 'ehllo', 'hlelo', 'hello', 'helol']\n"
       ]
      }
     ],
     "prompt_number": 66
    },
    {
     "cell_type": "markdown",
     "metadata": {},
     "source": [
      "Problem 33: Write a function nearly_equal to test whether two strings are nearly equal. Two strings a and b are nearly equal when a can be generated by a single mutation on b."
     ]
    },
    {
     "cell_type": "code",
     "collapsed": false,
     "input": [
      "def nearly_equal(w1,w2):\n",
      "    return w1 in mutate(w2)\n",
      "\n",
      "nearly_equal('python','perl')"
     ],
     "language": "python",
     "metadata": {},
     "outputs": [
      {
       "metadata": {},
       "output_type": "pyout",
       "prompt_number": 67,
       "text": [
        "False"
       ]
      }
     ],
     "prompt_number": 67
    },
    {
     "cell_type": "code",
     "collapsed": false,
     "input": [
      "nearly_equal('perl','pearl')"
     ],
     "language": "python",
     "metadata": {},
     "outputs": [
      {
       "metadata": {},
       "output_type": "pyout",
       "prompt_number": 68,
       "text": [
        "True"
       ]
      }
     ],
     "prompt_number": 68
    },
    {
     "cell_type": "code",
     "collapsed": false,
     "input": [
      "nearly_equal('python','jython')"
     ],
     "language": "python",
     "metadata": {},
     "outputs": [
      {
       "metadata": {},
       "output_type": "pyout",
       "prompt_number": 69,
       "text": [
        "True"
       ]
      }
     ],
     "prompt_number": 69
    },
    {
     "cell_type": "code",
     "collapsed": false,
     "input": [
      "nearly_equal('man','woman')"
     ],
     "language": "python",
     "metadata": {},
     "outputs": [
      {
       "metadata": {},
       "output_type": "pyout",
       "prompt_number": 70,
       "text": [
        "False"
       ]
      }
     ],
     "prompt_number": 70
    },
    {
     "cell_type": "markdown",
     "metadata": {},
     "source": [
      "Problem 34: Improve the above program to print the words in the descending order of the number of occurrences."
     ]
    },
    {
     "cell_type": "code",
     "collapsed": false,
     "input": [
      "def word_frequency(words):\n",
      "    frequency = {}\n",
      "    for w in words:\n",
      "        frequency[w] = frequency.get(w,0)+1\n",
      "    return frequency\n",
      "\n",
      "def read_words(filename):\n",
      "    with open(filename) as f:\n",
      "        content = f.read()\n",
      "    content = content.lower()\n",
      "    return content.split()"
     ],
     "language": "python",
     "metadata": {},
     "outputs": [],
     "prompt_number": 88
    },
    {
     "cell_type": "code",
     "collapsed": false,
     "input": [
      "f = word_frequency(read_words(\"she.txt\"))"
     ],
     "language": "python",
     "metadata": {},
     "outputs": [
      {
       "output_type": "stream",
       "stream": "stdout",
       "text": [
        "on 2\n",
        "sure. 1\n",
        "seashore; 1\n",
        "shells 2\n",
        "seashore 1\n",
        "shells. 1\n",
        "that 2\n",
        "seashore, 1\n",
        "sure 1\n",
        "so 1\n",
        "she 3\n",
        "seashells 3\n",
        "sells 3\n",
        "if 1\n",
        "the 4\n",
        "i'm 2\n",
        "are 2\n"
       ]
      }
     ],
     "prompt_number": 91
    },
    {
     "cell_type": "code",
     "collapsed": false,
     "input": [
      "sorted(f,key=f.get,reverse=True)"
     ],
     "language": "python",
     "metadata": {},
     "outputs": [
      {
       "metadata": {},
       "output_type": "pyout",
       "prompt_number": 101,
       "text": [
        "['the',\n",
        " 'she',\n",
        " 'seashells',\n",
        " 'sells',\n",
        " 'on',\n",
        " 'shells',\n",
        " 'that',\n",
        " \"i'm\",\n",
        " 'are',\n",
        " 'sure.',\n",
        " 'seashore;',\n",
        " 'seashore',\n",
        " 'shells.',\n",
        " 'seashore,',\n",
        " 'sure',\n",
        " 'so',\n",
        " 'if']"
       ]
      }
     ],
     "prompt_number": 101
    },
    {
     "cell_type": "code",
     "collapsed": false,
     "input": [
      "import operator\n",
      "sorted_f = sorted(f.items(),key=operator.itemgetter(1),reverse=True)\n",
      "print sorted_f"
     ],
     "language": "python",
     "metadata": {},
     "outputs": [
      {
       "output_type": "stream",
       "stream": "stdout",
       "text": [
        "[('the', 4), ('she', 3), ('seashells', 3), ('sells', 3), ('on', 2), ('shells', 2), ('that', 2), (\"i'm\", 2), ('are', 2), ('sure.', 1), ('seashore;', 1), ('seashore', 1), ('shells.', 1), ('seashore,', 1), ('sure', 1), ('so', 1), ('if', 1)]\n"
       ]
      }
     ],
     "prompt_number": 103
    },
    {
     "cell_type": "code",
     "collapsed": false,
     "input": [
      "for i in f: print i"
     ],
     "language": "python",
     "metadata": {},
     "outputs": [
      {
       "output_type": "stream",
       "stream": "stdout",
       "text": [
        "on\n",
        "sure.\n",
        "seashore;\n",
        "shells\n",
        "seashore\n",
        "shells.\n",
        "that\n",
        "seashore,\n",
        "sure\n",
        "so\n",
        "she\n",
        "seashells\n",
        "sells\n",
        "if\n",
        "the\n",
        "i'm\n",
        "are\n"
       ]
      }
     ],
     "prompt_number": 104
    },
    {
     "cell_type": "markdown",
     "metadata": {},
     "source": [
      "Problem 35: Write a program to count frequency of characters in a given file. "
     ]
    },
    {
     "cell_type": "code",
     "collapsed": false,
     "input": [
      "def char_freq(fname):\n",
      "    with open(fname) as f:\n",
      "        content = f.read()\n",
      "    cfreq = {}\n",
      "    for c in list(content):\n",
      "        cfreq[c] = cfreq.get(c,0)+1\n",
      "    return cfreq\n",
      "\n",
      "print char_freq(\"she.txt\")"
     ],
     "language": "python",
     "metadata": {},
     "outputs": [
      {
       "output_type": "stream",
       "stream": "stdout",
       "text": [
        "{'\\n': 3, ' ': 27, \"'\": 2, ',': 1, '.': 2, ';': 1, 'I': 2, 'S': 2, 'T': 1, 'a': 10, 'e': 29, 'f': 1, 'i': 1, 'h': 18, 'm': 2, 'l': 18, 'o': 6, 'n': 2, 's': 31, 'r': 7, 'u': 2, 't': 7}\n"
       ]
      }
     ],
     "prompt_number": 105
    },
    {
     "cell_type": "markdown",
     "metadata": {},
     "source": [
      "Problem 36: Write a program to find anagrams in a given list of words. Two words are called anagrams if one word can be formed by rearranging letters of another. For example \u2018eat\u2019, \u2018ate\u2019 and \u2018tea\u2019 are anagrams."
     ]
    },
    {
     "cell_type": "code",
     "collapsed": false,
     "input": [
      "def char_freq2(content):\n",
      "    cfreq = {}\n",
      "    for c in list(content):\n",
      "        cfreq[c] = cfreq.get(c,0)+1\n",
      "    return cfreq\n",
      "\n",
      "def isAnagram(s1,s2):\n",
      "    d1 = char_freq2(s1)\n",
      "    d2 = char_freq2(s2)\n",
      "    for k in d1:\n",
      "        try:\n",
      "            if d1[k] != d2[k]:\n",
      "                return False\n",
      "        except KeyError:\n",
      "            return False\n",
      "    return True\n",
      "    "
     ],
     "language": "python",
     "metadata": {},
     "outputs": [],
     "prompt_number": 116
    },
    {
     "cell_type": "code",
     "collapsed": false,
     "input": [
      "isAnagram('eat','tea')"
     ],
     "language": "python",
     "metadata": {},
     "outputs": [
      {
       "metadata": {},
       "output_type": "pyout",
       "prompt_number": 117,
       "text": [
        "True"
       ]
      }
     ],
     "prompt_number": 117
    },
    {
     "cell_type": "code",
     "collapsed": false,
     "input": [
      "isAnagram('done','node')"
     ],
     "language": "python",
     "metadata": {},
     "outputs": [
      {
       "metadata": {},
       "output_type": "pyout",
       "prompt_number": 118,
       "text": [
        "True"
       ]
      }
     ],
     "prompt_number": 118
    },
    {
     "cell_type": "code",
     "collapsed": false,
     "input": [
      "isAnagram('hello','world')"
     ],
     "language": "python",
     "metadata": {},
     "outputs": [
      {
       "metadata": {},
       "output_type": "pyout",
       "prompt_number": 119,
       "text": [
        "False"
       ]
      }
     ],
     "prompt_number": 119
    },
    {
     "cell_type": "markdown",
     "metadata": {},
     "source": [
      "Problem 37: Write a function valuesort to sort values of a dictionary based on the key."
     ]
    },
    {
     "cell_type": "code",
     "collapsed": false,
     "input": [
      "def valuesort(d):\n",
      "    l = sorted(d)\n",
      "    return [d[k] for k in l]\n",
      "\n",
      "valuesort({'x': 1, 'y': 2, 'a': 3})"
     ],
     "language": "python",
     "metadata": {},
     "outputs": [
      {
       "metadata": {},
       "output_type": "pyout",
       "prompt_number": 122,
       "text": [
        "[3, 1, 2]"
       ]
      }
     ],
     "prompt_number": 122
    },
    {
     "cell_type": "markdown",
     "metadata": {},
     "source": [
      "Problem 38: Write a function invertdict to interchange keys and values in a dictionary. For simplicity, assume that all values are unique."
     ]
    },
    {
     "cell_type": "code",
     "collapsed": false,
     "input": [
      "def invertdict(d):\n",
      "    return {d[k]:k for k in d}"
     ],
     "language": "python",
     "metadata": {},
     "outputs": [],
     "prompt_number": 124
    },
    {
     "cell_type": "code",
     "collapsed": false,
     "input": [
      "invertdict({'a':2,'b':3,5:7})"
     ],
     "language": "python",
     "metadata": {},
     "outputs": [
      {
       "metadata": {},
       "output_type": "pyout",
       "prompt_number": 125,
       "text": [
        "{2: 'a', 3: 'b', 7: 5}"
       ]
      }
     ],
     "prompt_number": 125
    },
    {
     "cell_type": "code",
     "collapsed": false,
     "input": [
      "globals()['np']"
     ],
     "language": "python",
     "metadata": {},
     "outputs": [
      {
       "metadata": {},
       "output_type": "pyout",
       "prompt_number": 127,
       "text": [
        "<module 'numpy' from '/usr/local/lib/python2.7/dist-packages/numpy/__init__.pyc'>"
       ]
      }
     ],
     "prompt_number": 127
    },
    {
     "cell_type": "heading",
     "level": 2,
     "metadata": {},
     "source": [
      "3. Modules"
     ]
    },
    {
     "cell_type": "code",
     "collapsed": false,
     "input": [
      "import os\n",
      "\n",
      "os.getcwd()"
     ],
     "language": "python",
     "metadata": {},
     "outputs": [
      {
       "metadata": {},
       "output_type": "pyout",
       "prompt_number": 136,
       "text": [
        "'/home/vagrant'"
       ]
      }
     ],
     "prompt_number": 136
    },
    {
     "cell_type": "code",
     "collapsed": false,
     "input": [
      "os.listdir(os.getcwd())"
     ],
     "language": "python",
     "metadata": {},
     "outputs": [
      {
       "metadata": {},
       "output_type": "pyout",
       "prompt_number": 137,
       "text": [
        "['.ipython',\n",
        " '.zcompdump',\n",
        " '.swp',\n",
        " 'she.txt',\n",
        " '.ssh',\n",
        " '.zshrc',\n",
        " '.bash_history',\n",
        " '.vbox_version',\n",
        " 'notebooks_backup',\n",
        " 'repos',\n",
        " '.profile',\n",
        " 'ds',\n",
        " '.viminfo',\n",
        " '.ansible',\n",
        " 'playbook.yml',\n",
        " '.zsh-update',\n",
        " '.zsh_history',\n",
        " '.zcompdump-data-science-toolbox-5.0.2',\n",
        " '.cache',\n",
        " '.bash_logout',\n",
        " '.bashrc',\n",
        " 'notebooks',\n",
        " '.oh-my-zsh',\n",
        " 'test.csv',\n",
        " '.config']"
       ]
      }
     ],
     "prompt_number": 137
    },
    {
     "cell_type": "markdown",
     "metadata": {},
     "source": [
      "Problem 1: Write a program to list all files in the given directory."
     ]
    },
    {
     "cell_type": "code",
     "collapsed": false,
     "input": [
      "def files_in_dir(path):\n",
      "    return os.listdir(path)"
     ],
     "language": "python",
     "metadata": {},
     "outputs": [],
     "prompt_number": 138
    },
    {
     "cell_type": "code",
     "collapsed": false,
     "input": [
      "files_in_dir('/home/vagrant')"
     ],
     "language": "python",
     "metadata": {},
     "outputs": [
      {
       "metadata": {},
       "output_type": "pyout",
       "prompt_number": 142,
       "text": [
        "['.ipython',\n",
        " '.zcompdump',\n",
        " '.swp',\n",
        " 'she.txt',\n",
        " '.ssh',\n",
        " '.zshrc',\n",
        " '.bash_history',\n",
        " '.vbox_version',\n",
        " 'notebooks_backup',\n",
        " 'repos',\n",
        " '.profile',\n",
        " 'ds',\n",
        " '.viminfo',\n",
        " '.ansible',\n",
        " 'playbook.yml',\n",
        " '.zsh-update',\n",
        " '.zsh_history',\n",
        " '.zcompdump-data-science-toolbox-5.0.2',\n",
        " '.cache',\n",
        " '.bash_logout',\n",
        " '.bashrc',\n",
        " 'notebooks',\n",
        " '.oh-my-zsh',\n",
        " 'test.csv',\n",
        " '.config']"
       ]
      }
     ],
     "prompt_number": 142
    },
    {
     "cell_type": "markdown",
     "metadata": {},
     "source": [
      "Problem 2: Write a program extcount.py to count number of files for each extension in the given directory. The program should take a directory name as argument and print count and extension for each available file extension."
     ]
    },
    {
     "cell_type": "code",
     "collapsed": false,
     "input": [
      "def extcount(path):\n",
      "    flist = os.listdir(path)\n",
      "    extlist = [f.split(\".\")[-1] for f in flist]\n",
      "    d = {}\n",
      "    for e in extlist:\n",
      "        d[e] = d.get(e,0) + 1\n",
      "    return d\n",
      "    "
     ],
     "language": "python",
     "metadata": {},
     "outputs": [],
     "prompt_number": 149
    },
    {
     "cell_type": "code",
     "collapsed": false,
     "input": [
      "extcount(os.getcwd())"
     ],
     "language": "python",
     "metadata": {},
     "outputs": [
      {
       "metadata": {},
       "output_type": "pyout",
       "prompt_number": 150,
       "text": [
        "{'2': 1,\n",
        " 'ansible': 1,\n",
        " 'bash_history': 1,\n",
        " 'bash_logout': 1,\n",
        " 'bashrc': 1,\n",
        " 'cache': 1,\n",
        " 'config': 1,\n",
        " 'csv': 1,\n",
        " 'ds': 1,\n",
        " 'ipython': 1,\n",
        " 'notebooks': 1,\n",
        " 'notebooks_backup': 1,\n",
        " 'oh-my-zsh': 1,\n",
        " 'profile': 1,\n",
        " 'repos': 1,\n",
        " 'ssh': 1,\n",
        " 'swp': 1,\n",
        " 'txt': 1,\n",
        " 'vbox_version': 1,\n",
        " 'viminfo': 1,\n",
        " 'yml': 1,\n",
        " 'zcompdump': 1,\n",
        " 'zsh-update': 1,\n",
        " 'zsh_history': 1,\n",
        " 'zshrc': 1}"
       ]
      }
     ],
     "prompt_number": 150
    },
    {
     "cell_type": "code",
     "collapsed": false,
     "input": [
      "'a.b.c'.split('.')"
     ],
     "language": "python",
     "metadata": {},
     "outputs": [
      {
       "metadata": {},
       "output_type": "pyout",
       "prompt_number": 151,
       "text": [
        "['a', 'b', 'c']"
       ]
      }
     ],
     "prompt_number": 151
    },
    {
     "cell_type": "markdown",
     "metadata": {},
     "source": [
      "Problem 3: Write a program to list all the files in the given directory along with their length and last modification time. The output should contain one line for each file containing filename, length and modification date separated by tabs."
     ]
    },
    {
     "cell_type": "code",
     "collapsed": false,
     "input": [
      "os.stat(os.getcwd())"
     ],
     "language": "python",
     "metadata": {},
     "outputs": [
      {
       "metadata": {},
       "output_type": "pyout",
       "prompt_number": 153,
       "text": [
        "posix.stat_result(st_mode=16877, st_ino=1451962, st_dev=64512L, st_nlink=10, st_uid=65530, st_gid=65530, st_size=4096, st_atime=1419756141, st_mtime=1419756080, st_ctime=1419756080)"
       ]
      }
     ],
     "prompt_number": 153
    },
    {
     "cell_type": "code",
     "collapsed": false,
     "input": [
      "wobj = os.walk(os.getcwd())"
     ],
     "language": "python",
     "metadata": {},
     "outputs": [],
     "prompt_number": 155
    },
    {
     "cell_type": "code",
     "collapsed": false,
     "input": [
      "wobj.next()"
     ],
     "language": "python",
     "metadata": {},
     "outputs": [
      {
       "metadata": {},
       "output_type": "pyout",
       "prompt_number": 156,
       "text": [
        "('/home/vagrant',\n",
        " ['.ipython',\n",
        "  '.ssh',\n",
        "  'notebooks_backup',\n",
        "  'repos',\n",
        "  'ds',\n",
        "  '.ansible',\n",
        "  '.cache',\n",
        "  'notebooks',\n",
        "  '.oh-my-zsh',\n",
        "  '.config'],\n",
        " ['.zcompdump',\n",
        "  '.swp',\n",
        "  'she.txt',\n",
        "  '.zshrc',\n",
        "  '.bash_history',\n",
        "  '.vbox_version',\n",
        "  '.profile',\n",
        "  '.viminfo',\n",
        "  'playbook.yml',\n",
        "  '.zsh-update',\n",
        "  '.zsh_history',\n",
        "  '.zcompdump-data-science-toolbox-5.0.2',\n",
        "  '.bash_logout',\n",
        "  '.bashrc',\n",
        "  'test.csv'])"
       ]
      }
     ],
     "prompt_number": 156
    },
    {
     "cell_type": "code",
     "collapsed": false,
     "input": [
      "wobj.next()"
     ],
     "language": "python",
     "metadata": {},
     "outputs": [
      {
       "metadata": {},
       "output_type": "pyout",
       "prompt_number": 159,
       "text": [
        "('/home/vagrant/.ipython/profile_default',\n",
        " ['startup', 'security', 'log', 'pid', 'static'],\n",
        " [])"
       ]
      }
     ],
     "prompt_number": 159
    },
    {
     "cell_type": "code",
     "collapsed": false,
     "input": [],
     "language": "python",
     "metadata": {},
     "outputs": [],
     "prompt_number": 158
    },
    {
     "cell_type": "code",
     "collapsed": false,
     "input": [],
     "language": "python",
     "metadata": {},
     "outputs": []
    }
   ],
   "metadata": {}
  }
 ]
}